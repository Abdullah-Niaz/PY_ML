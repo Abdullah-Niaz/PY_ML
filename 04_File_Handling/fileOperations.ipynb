{
 "cells": [
  {
   "cell_type": "markdown",
   "metadata": {},
   "source": [
    "# File Operations  - Read & Write Files\n",
    "File handling is a crucial part of any programming language. Python provides buit-in functions and methods to read from and write to files, both text and binary. This lesson will cover the basic of the file handlin, including reading and writing text and binary files\n"
   ]
  },
  {
   "cell_type": "markdown",
   "metadata": {},
   "source": []
  },
  {
   "cell_type": "code",
   "execution_count": 4,
   "metadata": {},
   "outputs": [
    {
     "name": "stdout",
     "output_type": "stream",
     "text": [
      "Hello How are you ?\n",
      "I am good, thanks for asking. I was just wondering if you could help me with a question\n",
      "I am good, thanks for asking. I was just wondering if you could help me with a question\n",
      "I am good, thanks for asking. I was just wondering if you could help me with a question\n"
     ]
    }
   ],
   "source": [
    "with open(\"example.txt\",\"r\") as file:\n",
    "    for file in file:\n",
    "        print(file.strip()) # remove the new line character"
   ]
  },
  {
   "cell_type": "code",
   "execution_count": 7,
   "metadata": {},
   "outputs": [],
   "source": [
    "# witing a file\n",
    "\n",
    "with open('example.txt','w')as file:\n",
    "    file.write(\"Hello World! \\n\")\n",
    "    file.write(\"this is a new line\")"
   ]
  },
  {
   "cell_type": "code",
   "execution_count": 9,
   "metadata": {},
   "outputs": [],
   "source": [
    "#binary mode\n",
    "\n",
    "data = b'\\x00\\x01\\x03\\x04'\n",
    "with open('ex.bin','wb') as file:\n",
    "    file.write(data)"
   ]
  },
  {
   "cell_type": "code",
   "execution_count": 14,
   "metadata": {},
   "outputs": [],
   "source": [
    "d = 'AX00500'\n",
    "with open('ex.bin','ab') as file:\n",
    "    file.write(d.encode('utf-8'))"
   ]
  },
  {
   "cell_type": "code",
   "execution_count": null,
   "metadata": {},
   "outputs": [],
   "source": []
  }
 ],
 "metadata": {
  "kernelspec": {
   "display_name": "Python 3",
   "language": "python",
   "name": "python3"
  },
  "language_info": {
   "codemirror_mode": {
    "name": "ipython",
    "version": 3
   },
   "file_extension": ".py",
   "mimetype": "text/x-python",
   "name": "python",
   "nbconvert_exporter": "python",
   "pygments_lexer": "ipython3",
   "version": "3.12.2"
  }
 },
 "nbformat": 4,
 "nbformat_minor": 2
}
