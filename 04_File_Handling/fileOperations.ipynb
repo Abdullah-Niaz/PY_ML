{
 "cells": [
  {
   "cell_type": "markdown",
   "metadata": {},
   "source": [
    "# File Operations  - Read & Write Files\n",
    "File handling is a crucial part of any programming language. Python provides buit-in functions and methods to read from and write to files, both text and binary. This lesson will cover the basic of the file handlin, including reading and writing text and binary files\n"
   ]
  },
  {
   "cell_type": "markdown",
   "metadata": {},
   "source": []
  }
 ],
 "metadata": {
  "kernelspec": {
   "display_name": "Python 3",
   "language": "python",
   "name": "python3"
  },
  "language_info": {
   "name": "python",
   "version": "3.12.2"
  }
 },
 "nbformat": 4,
 "nbformat_minor": 2
}
