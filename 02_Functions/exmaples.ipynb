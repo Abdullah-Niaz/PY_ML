{
 "cells": [
  {
   "cell_type": "markdown",
   "metadata": {},
   "source": [
    "### Convert the temperature to forenheit and celcius "
   ]
  },
  {
   "cell_type": "code",
   "execution_count": 1,
   "metadata": {},
   "outputs": [
    {
     "name": "stdout",
     "output_type": "stream",
     "text": [
      "77.0\n",
      "81.0\n"
     ]
    }
   ],
   "source": [
    "def temperatureConversion(temp,unit):\n",
    "    if unit == \"C\":\n",
    "        return temp * 9/5 + 32\n",
    "    elif unit == \"F\":\n",
    "        return (temp-32) *9/5\n",
    "    else:\n",
    "        return None\n",
    "print(temperatureConversion(25,\"C\"))\n",
    "print(temperatureConversion(77,\"F\"))"
   ]
  }
 ],
 "metadata": {
  "kernelspec": {
   "display_name": "Python 3",
   "language": "python",
   "name": "python3"
  },
  "language_info": {
   "codemirror_mode": {
    "name": "ipython",
    "version": 3
   },
   "file_extension": ".py",
   "mimetype": "text/x-python",
   "name": "python",
   "nbconvert_exporter": "python",
   "pygments_lexer": "ipython3",
   "version": "3.12.2"
  }
 },
 "nbformat": 4,
 "nbformat_minor": 2
}
